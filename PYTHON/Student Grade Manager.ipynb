{
 "cells": [
  {
   "cell_type": "code",
   "execution_count": null,
   "id": "a50d4ed0-a71d-4d69-ba8b-6926cc918f73",
   "metadata": {},
   "outputs": [],
   "source": [
    "# Student Grade Manager\n",
    "\n",
    "def display_menu():\n",
    "    print(\"\\n--- Student Grade Manager ---\")\n",
    "    print(\"1. Add Student and Grade\")\n",
    "    print(\"2. View All Students and Grades\")\n",
    "    print(\"3. Calculate Average Grade\")\n",
    "    print(\"4. Exit\")"
   ]
  },
  {
   "cell_type": "code",
   "execution_count": null,
   "id": "593d106f-723d-4fdc-9006-eaa7a90f282e",
   "metadata": {},
   "outputs": [],
   "source": [
    "def add_student(student_data):\n",
    "    name = input(\"Enter student name: \")\n",
    "    try:\n",
    "        grade = float(input(\"Enter student grade (0–100): \"))\n",
    "        if 0 <= grade <= 100:\n",
    "            student_data[name] = grade\n",
    "            print(f\"{name} added with grade {grade}.\")\n",
    "        else:\n",
    "            print(\"Grade must be between 0 and 100.\")\n",
    "    except ValueError:\n",
    "        print(\"Please enter a valid number for the grade.\")"
   ]
  },
  {
   "cell_type": "code",
   "execution_count": null,
   "id": "498dfe45-3a0c-45e2-8634-1217563ee89b",
   "metadata": {},
   "outputs": [],
   "source": [
    "def view_students(student_data):\n",
    "    if not student_data:\n",
    "        print(\"No students added yet.\")\n",
    "    else:\n",
    "        print(\"\\n--- Student List ---\")\n",
    "        for name, grade in student_data.items():\n",
    "            print(f\"{name}: {grade}\")"
   ]
  },
  {
   "cell_type": "code",
   "execution_count": null,
   "id": "663158f3-1492-42ef-a1f1-46bd5df716ff",
   "metadata": {},
   "outputs": [],
   "source": [
    "def calculate_average(student_data):\n",
    "    if not student_data:\n",
    "        print(\"No data to calculate average.\")\n",
    "    else:\n",
    "        average = sum(student_data.values()) / len(student_data)\n",
    "        print(f\"\\nAverage Grade: {average:.2f}\")"
   ]
  },
  {
   "cell_type": "code",
   "execution_count": null,
   "id": "950499ed-1935-4874-93f3-9d93fda4e5c6",
   "metadata": {},
   "outputs": [],
   "source": [
    "# Main program\n",
    "student_data = {}\n",
    "\n",
    "while True:\n",
    "    display_menu()\n",
    "    choice = input(\"Choose an option (1–4): \")\n",
    "    \n",
    "    if choice == \"1\":\n",
    "        add_student(student_data)\n",
    "    elif choice == \"2\":\n",
    "        view_students(student_data)\n",
    "    elif choice == \"3\":\n",
    "        calculate_average(student_data)\n",
    "    elif choice == \"4\":\n",
    "        print(\"Exiting Student Grade Manager. Goodbye!\")\n",
    "        break\n",
    "    else:\n",
    "        print(\"Invalid option. Please select 1–4.\")"
   ]
  }
 ],
 "metadata": {
  "kernelspec": {
   "display_name": "Python 3 (ipykernel)",
   "language": "python",
   "name": "python3"
  },
  "language_info": {
   "codemirror_mode": {
    "name": "ipython",
    "version": 3
   },
   "file_extension": ".py",
   "mimetype": "text/x-python",
   "name": "python",
   "nbconvert_exporter": "python",
   "pygments_lexer": "ipython3",
   "version": "3.13.5"
  }
 },
 "nbformat": 4,
 "nbformat_minor": 5
}
