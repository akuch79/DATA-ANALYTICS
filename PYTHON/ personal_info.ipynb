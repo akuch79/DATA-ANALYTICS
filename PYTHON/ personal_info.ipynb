{
 "cells": [
  {
   "cell_type": "markdown",
   "id": "a135bc9a-0825-4696-a178-7082284b678c",
   "metadata": {},
   "source": [
    "# Asks the user for their first name, last name, age, and favorite hobby "
   ]
  },
  {
   "cell_type": "code",
   "execution_count": 9,
   "id": "3f79b055-581e-4214-b31f-5c04eede76f1",
   "metadata": {},
   "outputs": [
    {
     "name": "stdin",
     "output_type": "stream",
     "text": [
      "Enter your first name:  Achol\n",
      "Enter your last name:  Deng\n",
      "Enter your age:  27\n",
      "Enter your favorite hobby:  dancing\n"
     ]
    }
   ],
   "source": [
    "# 1. Ask user for input\n",
    "first_name= input(\"Enter your first name: \")\n",
    "last_name= input(\"Enter your last name: \")\n",
    "age= input(\"Enter your age: \")\n",
    "favorite_hobby=input(\"Enter your favorite hobby: \")\n",
    "\n"
   ]
  },
  {
   "cell_type": "markdown",
   "id": "57b92034-b619-4dd4-8261-e54f8f2156d9",
   "metadata": {},
   "source": [
    "#  Converts their age to a number and calculates how old they'll be in 5, 10, and 20 years "
   ]
  },
  {
   "cell_type": "code",
   "execution_count": 12,
   "id": "a6945a42-a4e6-44d1-87fa-086e46ae1f0f",
   "metadata": {},
   "outputs": [
    {
     "name": "stdout",
     "output_type": "stream",
     "text": [
      "\n",
      "--- Age in the Future ---\n",
      "In 5 years, you'll be 32.\n",
      "In 10 years, you'll be 37.\n",
      "In 20 years, you'll be 47.\n"
     ]
    }
   ],
   "source": [
    "# 2. Convert age to integer and calculate future ages\n",
    "age = int(age)\n",
    "age_5 = age + 5\n",
    "age_10 = age + 10\n",
    "age_20 = age + 20\n",
    "\n",
    "print(\"\\n--- Age in the Future ---\")\n",
    "print(f\"In 5 years, you'll be {age_5}.\")\n",
    "print(f\"In 10 years, you'll be {age_10}.\")\n",
    "print(f\"In 20 years, you'll be {age_20}.\")"
   ]
  },
  {
   "cell_type": "markdown",
   "id": "712d4b42-36f5-4d97-b8c6-0bc38629d6e9",
   "metadata": {},
   "source": [
    "#  Creates and displays several personalized messages using different string methods "
   ]
  },
  {
   "cell_type": "code",
   "execution_count": 14,
   "id": "d8963a41-aa29-49db-aa1d-d2e47c926a31",
   "metadata": {},
   "outputs": [
    {
     "name": "stdout",
     "output_type": "stream",
     "text": [
      "\n",
      "--- Personalized Messages ---\n",
      "Hello, Achol Deng!\n",
      "Your name in uppercase: ACHOL DENG\n",
      "Dancing is a great favorite_hobby!\n"
     ]
    }
   ],
   "source": [
    "# 3. Personalized messages using string methods\n",
    "full_name = first_name + \" \" + last_name\n",
    "\n",
    "print(\"\\n--- Personalized Messages ---\")\n",
    "print(f\"Hello, {full_name.title()}!\")\n",
    "print(f\"Your name in uppercase: {full_name.upper()}\")\n",
    "print(f\"{favorite_hobby.capitalize()} is a great favorite_hobby!\")\n"
   ]
  },
  {
   "cell_type": "markdown",
   "id": "5f1a84c9-5797-4a44-a2e5-44f4654393f4",
   "metadata": {},
   "source": [
    "# Shows interesting facts about their input (like how many characters their name has)\n"
   ]
  },
  {
   "cell_type": "code",
   "execution_count": 16,
   "id": "a68881b2-128e-4777-8a79-ca015c27223d",
   "metadata": {},
   "outputs": [
    {
     "name": "stdout",
     "output_type": "stream",
     "text": [
      "\n",
      "--- Interesting Facts ---\n",
      "Your first name has 5 characters.\n",
      "Your last name has 4 characters.\n",
      "Your full name (without spaces) has 9 characters.\n",
      "Your favorite_hobby has 7 characters.\n"
     ]
    }
   ],
   "source": [
    "# 4. Interesting facts\n",
    "print(\"\\n--- Interesting Facts ---\")\n",
    "print(f\"Your first name has {len(first_name)} characters.\")\n",
    "print(f\"Your last name has {len(last_name)} characters.\")\n",
    "print(f\"Your full name (without spaces) has {len(full_name.replace(' ', ''))} characters.\")\n",
    "print(f\"Your favorite_hobby has {len(favorite_hobby)} characters.\")"
   ]
  },
  {
   "cell_type": "code",
   "execution_count": null,
   "id": "21c3a2de-3737-40ce-bd9f-86a57a8bffcd",
   "metadata": {},
   "outputs": [],
   "source": []
  }
 ],
 "metadata": {
  "kernelspec": {
   "display_name": "Python 3 (ipykernel)",
   "language": "python",
   "name": "python3"
  },
  "language_info": {
   "codemirror_mode": {
    "name": "ipython",
    "version": 3
   },
   "file_extension": ".py",
   "mimetype": "text/x-python",
   "name": "python",
   "nbconvert_exporter": "python",
   "pygments_lexer": "ipython3",
   "version": "3.13.5"
  }
 },
 "nbformat": 4,
 "nbformat_minor": 5
}
