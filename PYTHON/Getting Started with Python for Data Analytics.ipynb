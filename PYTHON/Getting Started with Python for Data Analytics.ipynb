{
 "cells": [
  {
   "cell_type": "markdown",
   "id": "56a1451b-6368-4453-a600-0679f1a98c7c",
   "metadata": {},
   "source": [
    "# Getting Started with Python for Data Analysis\n"
   ]
  },
  {
   "cell_type": "markdown",
   "id": "b945bfec-0ff7-48c1-bf0b-5b89524544c3",
   "metadata": {},
   "source": [
    "#### Real-World Case: Small Supermarket Analysis"
   ]
  },
  {
   "cell_type": "code",
   "execution_count": 2,
   "id": "3aef97a6-d61e-49d1-86ec-1ab6916b9267",
   "metadata": {},
   "outputs": [
    {
     "name": "stdout",
     "output_type": "stream",
     "text": [
      "✅ All librabres import successfuly\n"
     ]
    }
   ],
   "source": [
    "# Step 1: Importing libraries\n",
    "\n",
    "import pandas as pd\n",
    "import numpy as np\n",
    "import matplotlib.pyplot as plt\n",
    "import  seaborn as sns\n",
    "\n",
    "print(\"✅ All librabres import successfuly\")"
   ]
  },
  {
   "cell_type": "code",
   "execution_count": 5,
   "id": "d768a566-d7f2-4e7d-95d1-65cf0b1bfd3e",
   "metadata": {},
   "outputs": [
    {
     "name": "stdout",
     "output_type": "stream",
     "text": [
      "📊 Pandas version: 2.2.3\n",
      "🔢 Numpy version: 2.1.3\n",
      "🎨 Matplotlib and Seaborn are ready for visualization!\n"
     ]
    }
   ],
   "source": [
    " # === step 2: Test that everything works ===\n",
    "print(f\"📊 Pandas version: {pd.__version__}\")\n",
    "print(f\"🔢 Numpy version: {np.__version__}\")\n",
    "print(\"🎨 Matplotlib and Seaborn are ready for visualization!\")"
   ]
  },
  {
   "cell_type": "code",
   "execution_count": 6,
   "id": "e54b9cc1-660f-40c9-9284-450b52fc1c65",
   "metadata": {},
   "outputs": [
    {
     "name": "stdout",
     "output_type": "stream",
     "text": [
      "\n",
      "📋 Sample supermarket data:\n",
      "   Product  Sales  Profit\n",
      "0   Apples    150      45\n",
      "1  Bananas    200      80\n",
      "2  Oranges    120      36\n",
      "3    Bread    300      90\n",
      "4     Milk    250      75\n",
      "\n",
      "🎉 Everything is working! You're ready to analyze data!\n"
     ]
    }
   ],
   "source": [
    "# === STEP 3: Create a simple example ===\n",
    "# Let's create some sample data to prove everything works\n",
    "\n",
    "sample_data = {\n",
    "'Product': ['Apples', 'Bananas', 'Oranges', 'Bread', 'Milk'],\n",
    "'Sales': [150, 200, 120, 300, 250],\n",
    "'Profit': [45, 80, 36, 90, 75]\n",
    "}\n",
    "\n",
    "df = pd.DataFrame(sample_data)\n",
    "print(\"\\n📋 Sample supermarket data:\")\n",
    "print(df)\n",
    "print(\"\\n🎉 Everything is working! You're ready to analyze data!\")\n",
    "\n",
    "\n"
   ]
  },
  {
   "cell_type": "code",
   "execution_count": null,
   "id": "eeee565e-d512-49bd-9b52-816cba25b029",
   "metadata": {},
   "outputs": [],
   "source": []
  }
 ],
 "metadata": {
  "kernelspec": {
   "display_name": "Python 3 (ipykernel)",
   "language": "python",
   "name": "python3"
  },
  "language_info": {
   "codemirror_mode": {
    "name": "ipython",
    "version": 3
   },
   "file_extension": ".py",
   "mimetype": "text/x-python",
   "name": "python",
   "nbconvert_exporter": "python",
   "pygments_lexer": "ipython3",
   "version": "3.13.5"
  }
 },
 "nbformat": 4,
 "nbformat_minor": 5
}
