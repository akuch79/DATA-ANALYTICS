{
 "cells": [
  {
   "cell_type": "markdown",
   "id": "7875c9cb-a350-48b0-8446-ae637f184da5",
   "metadata": {},
   "source": [
    "# An Introduction to `if`, `elif`, `else` Statements and Logical Operators in Python"
   ]
  },
  {
   "cell_type": "markdown",
   "id": "aabb948f-4684-40f7-bdc8-d70ea9cd8bc3",
   "metadata": {},
   "source": [
    "# Section 1: Even or Odd Checker"
   ]
  },
  {
   "cell_type": "markdown",
   "id": "20a3a266-0fbe-499a-bcb5-8f44f9c74292",
   "metadata": {},
   "source": [
    "# Description:  "
   ]
  },
  {
   "cell_type": "markdown",
   "id": "8537c8e5-b444-4aaa-919e-5d644e41b968",
   "metadata": {},
   "source": [
    "Ask the user to enter a number. Determine if it’s even or odd."
   ]
  },
  {
   "cell_type": "code",
   "execution_count": 6,
   "id": "6a2a475a-aceb-4bc4-a55b-35145f56d892",
   "metadata": {},
   "outputs": [
    {
     "name": "stdin",
     "output_type": "stream",
     "text": [
      "Enter a number:  78\n"
     ]
    },
    {
     "name": "stdout",
     "output_type": "stream",
     "text": [
      "78 is an even number\n"
     ]
    }
   ],
   "source": [
    "# Even or Odd Checker\n",
    "num = int(input(\"Enter a number: \"))\n",
    "\n",
    "if num % 2 == 0:\n",
    "    print(f\"{num} is an even number\")\n",
    "else:\n",
    "    print(f\"{num} is an odd number\")"
   ]
  },
  {
   "cell_type": "markdown",
   "id": "31305e4e-ca51-4143-9c47-ec394ebe7b0d",
   "metadata": {},
   "source": [
    "# Section 2: Grade Classifier"
   ]
  },
  {
   "cell_type": "markdown",
   "id": "920fdb4d-2b55-4ae4-95cc-5fc1f4261039",
   "metadata": {},
   "source": [
    "# Description: "
   ]
  },
  {
   "cell_type": "markdown",
   "id": "f821c694-e761-42cf-b2ff-359976279bdf",
   "metadata": {},
   "source": [
    "\n",
    "Classify a score between 0 and 100 into grades."
   ]
  },
  {
   "cell_type": "code",
   "execution_count": 7,
   "id": "b8d62827-1205-4bc4-a4fe-4b72d4b41c3f",
   "metadata": {},
   "outputs": [
    {
     "name": "stdin",
     "output_type": "stream",
     "text": [
      "Enter your score (0-100):  89\n"
     ]
    },
    {
     "name": "stdout",
     "output_type": "stream",
     "text": [
      "Grade: B\n"
     ]
    }
   ],
   "source": [
    "# Grade Classifier\n",
    "score = int(input(\"Enter your score (0-100): \"))\n",
    "\n",
    "if score >= 90:\n",
    "    print(\"Grade: A\")\n",
    "elif score >= 80:\n",
    "    print(\"Grade: B\")\n",
    "elif score >= 70:\n",
    "    print(\"Grade: C\")\n",
    "elif score >= 60:\n",
    "    print(\"Grade: D\")\n",
    "else:\n",
    "    print(\"Grade: Fail\")\n"
   ]
  },
  {
   "cell_type": "markdown",
   "id": "39407147-9848-4164-b3ba-72bea929f1d5",
   "metadata": {},
   "source": [
    "# Section 3: Customer Discount Checker"
   ]
  },
  {
   "cell_type": "markdown",
   "id": "41d70dda-75c8-4356-a27f-df67a9b5ec24",
   "metadata": {},
   "source": [
    " \n",
    "# Description:  \n",
    "Check discount eligibility based on customer type and purchase amount.\n"
   ]
  },
  {
   "cell_type": "code",
   "execution_count": null,
   "id": "468b8c79-8930-43e4-ab0b-201c9a3729e8",
   "metadata": {},
   "outputs": [],
   "source": [
    "# Customer Discount Checker\n",
    "customer_type = input(\"Enter customer type (regular/premium): \").lower()\n",
    "purchase_amount = float(input(\"Enter purchase amount in KES: \"))\n",
    "\n",
    "if customer_type == \"premium\" and purchase_amount > 10000:\n",
    "    discount = 0.20\n",
    "elif customer_type == \"regular\" and purchase_amount > 15000:\n",
    "    discount = 0.10\n",
    "else:\n",
    "    discount = 0.00\n",
    "\n",
    "    final_price = purchase_amount * (1 - discount)\n",
    "print(f\"Discount applied: {discount*100}%\")\n",
    "print(f\"Final price: KES {final_price}\")\n"
   ]
  },
  {
   "cell_type": "code",
   "execution_count": null,
   "id": "e1ddbff8-4231-48c6-9f10-9a78f066afe0",
   "metadata": {},
   "outputs": [],
   "source": []
  }
 ],
 "metadata": {
  "kernelspec": {
   "display_name": "Python 3 (ipykernel)",
   "language": "python",
   "name": "python3"
  },
  "language_info": {
   "codemirror_mode": {
    "name": "ipython",
    "version": 3
   },
   "file_extension": ".py",
   "mimetype": "text/x-python",
   "name": "python",
   "nbconvert_exporter": "python",
   "pygments_lexer": "ipython3",
   "version": "3.13.5"
  }
 },
 "nbformat": 4,
 "nbformat_minor": 5
}
